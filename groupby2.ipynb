{
  "nbformat": 4,
  "nbformat_minor": 0,
  "metadata": {
    "colab": {
      "name": "groupby2.ipynb",
      "provenance": [],
      "authorship_tag": "ABX9TyNWJRUecbZtWrWX5yXCXoZ9",
      "include_colab_link": true
    },
    "kernelspec": {
      "name": "python3",
      "display_name": "Python 3"
    },
    "language_info": {
      "name": "python"
    }
  },
  "cells": [
    {
      "cell_type": "markdown",
      "metadata": {
        "id": "view-in-github",
        "colab_type": "text"
      },
      "source": [
        "<a href=\"https://colab.research.google.com/github/mochimochi0108/KaggleDiaryLog/blob/main/groupby2.ipynb\" target=\"_parent\"><img src=\"https://colab.research.google.com/assets/colab-badge.svg\" alt=\"Open In Colab\"/></a>"
      ]
    },
    {
      "cell_type": "code",
      "execution_count": 1,
      "metadata": {
        "colab": {
          "base_uri": "https://localhost:8080/"
        },
        "id": "dsMScYbrFLso",
        "outputId": "6577c9d4-c519-459c-e148-fb9ada33583f"
      },
      "outputs": [
        {
          "output_type": "stream",
          "name": "stdout",
          "text": [
            "  pref_name category  area\n",
            "0        鳥取       中国  3507\n",
            "1        島根       中国  6708\n",
            "2        岡山       中国  7010\n",
            "3        広島       中国  8480\n",
            "4        山口       中国  6114\n",
            "5        徳島       四国  4147\n",
            "6        香川       四国  1862\n",
            "7        愛媛       四国  5679\n",
            "8        高知       四国  7105\n"
          ]
        }
      ],
      "source": [
        "# https://blog.shikoan.com/pandas-groupby-head/\n",
        "# 今、中国地方と四国地方の県と面積をDataFrameにしてみました。ここから、中国地方と四国地方の面積が小さい県を選んでみます。\n",
        "import pandas as pd\n",
        "\n",
        "prefs = {\"pref_name\":[\"鳥取\", \"島根\", \"岡山\", \"広島\", \"山口\", \"徳島\", \"香川\", \"愛媛\", \"高知\"],\n",
        "         \"category\":[\"中国\", \"中国\", \"中国\", \"中国\", \"中国\", \"四国\", \"四国\", \"四国\", \"四国\"],\n",
        "         \"area\":[3507, 6708, 7010, 8480, 6114, 4147, 1862, 5679, 7105]}\n",
        "df = pd.DataFrame(prefs)\n",
        "print(df)"
      ]
    },
    {
      "cell_type": "code",
      "source": [
        "# sort\n",
        "sorted = df.sort_values([\"area\"], 0, [True])\n",
        "print(sorted)\n",
        "# group by\n",
        "grouped = sorted.groupby(\"category\").head(2)\n",
        "print(grouped)\n"
      ],
      "metadata": {
        "colab": {
          "base_uri": "https://localhost:8080/"
        },
        "id": "FnVrDq3qFaJU",
        "outputId": "11852a66-6eb8-499d-9969-1c5eda19a0f4"
      },
      "execution_count": 3,
      "outputs": [
        {
          "output_type": "stream",
          "name": "stdout",
          "text": [
            "  pref_name category  area\n",
            "6        香川       四国  1862\n",
            "0        鳥取       中国  3507\n",
            "5        徳島       四国  4147\n",
            "7        愛媛       四国  5679\n",
            "4        山口       中国  6114\n",
            "1        島根       中国  6708\n",
            "2        岡山       中国  7010\n",
            "8        高知       四国  7105\n",
            "3        広島       中国  8480\n",
            "  pref_name category  area\n",
            "6        香川       四国  1862\n",
            "0        鳥取       中国  3507\n",
            "5        徳島       四国  4147\n",
            "4        山口       中国  6114\n"
          ]
        },
        {
          "output_type": "stream",
          "name": "stderr",
          "text": [
            "/usr/local/lib/python3.7/dist-packages/ipykernel_launcher.py:2: FutureWarning: In a future version of pandas all arguments of DataFrame.sort_values except for the argument 'by' will be keyword-only\n",
            "  \n"
          ]
        }
      ]
    },
    {
      "cell_type": "code",
      "source": [
        ""
      ],
      "metadata": {
        "id": "UHzeO2C_FgTJ"
      },
      "execution_count": null,
      "outputs": []
    }
  ]
}