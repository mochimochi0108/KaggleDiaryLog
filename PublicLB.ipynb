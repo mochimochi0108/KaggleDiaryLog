{
  "nbformat": 4,
  "nbformat_minor": 0,
  "metadata": {
    "colab": {
      "name": "PublicLB.ipynb",
      "provenance": [],
      "mount_file_id": "1FjqtwdK8-IrsFHl5ve1XN1-ayJX1_kIN",
      "authorship_tag": "ABX9TyNfAtSRrl/2FZbdhllduKI/",
      "include_colab_link": true
    },
    "kernelspec": {
      "name": "python3",
      "display_name": "Python 3"
    },
    "language_info": {
      "name": "python"
    }
  },
  "cells": [
    {
      "cell_type": "markdown",
      "metadata": {
        "id": "view-in-github",
        "colab_type": "text"
      },
      "source": [
        "<a href=\"https://colab.research.google.com/github/mochimochi0108/KaggleDiaryLog/blob/main/PublicLB.ipynb\" target=\"_parent\"><img src=\"https://colab.research.google.com/assets/colab-badge.svg\" alt=\"Open In Colab\"/></a>"
      ]
    },
    {
      "cell_type": "markdown",
      "source": [
        "probspace\n",
        "最適価格を予想するアルゴリズム(ダイナミックプライシング)\n",
        "https://comp.probspace.com/competitions/bnb_price\n",
        "\n",
        "rmsre\n"
      ],
      "metadata": {
        "id": "JRdTvh1EfAXr"
      }
    },
    {
      "cell_type": "code",
      "source": [
        "import pandas as pd\n",
        "import numpy as np\n",
        "import sklearn\n",
        "!python3 --version\n",
        "print(\"Pandas\", pd.__version__)\n",
        "print(\"Numpy\", np.__version__)\n",
        "print(\"Scikit learn\", sklearn.__version__)\n",
        "import matplotlib\n",
        "print(\"Matplotlib\", matplotlib.__version__)\n",
        "\n",
        "import datetime\n",
        "import locale"
      ],
      "metadata": {
        "colab": {
          "base_uri": "https://localhost:8080/"
        },
        "id": "55U4TClVzKYS",
        "outputId": "7a9ffebf-0f99-46ba-bfae-6ea8a855c957"
      },
      "execution_count": 251,
      "outputs": [
        {
          "output_type": "stream",
          "name": "stdout",
          "text": [
            "Python 3.7.13\n",
            "Pandas 1.3.5\n",
            "Numpy 1.21.5\n",
            "Scikit learn 1.0.2\n",
            "Matplotlib 3.2.2\n"
          ]
        }
      ]
    },
    {
      "cell_type": "code",
      "source": [
        "#データの読み込みと前処理\n",
        "import pandas as pd\n",
        "train = pd.read_csv(\"/content/drive/MyDrive/Colab Notebooks/probspace/PublicLB/input/train_data.csv\")\n",
        "test = pd.read_csv(\"/content/drive/MyDrive/Colab Notebooks/probspace/PublicLB/input/test_data.csv\")\n",
        "station = pd.read_csv(\"/content/drive/MyDrive/Colab Notebooks/probspace/PublicLB/input/station_list.csv\")\n",
        "sub = pd.read_csv(\"/content/drive/MyDrive/Colab Notebooks/probspace/PublicLB/input/submission.csv\")\n",
        "data = pd.concat([train, test], sort=False)\n",
        "print(train.shape,test.shape, sub.shape, station.shape,data.shape)"
      ],
      "metadata": {
        "id": "6Wqdbs81zKdd",
        "colab": {
          "base_uri": "https://localhost:8080/"
        },
        "outputId": "ab5513b5-bde2-42a8-d345-fc2e254148e6"
      },
      "execution_count": 252,
      "outputs": [
        {
          "output_type": "stream",
          "name": "stdout",
          "text": [
            "(9990, 13) (4996, 12) (4996, 2) (746, 3) (14986, 13)\n"
          ]
        }
      ]
    },
    {
      "cell_type": "code",
      "source": [
        "display(train.head())\n",
        "display(test.head())\n",
        "display(station.head())\n",
        "display(sub.head())\n",
        "display(data.head())"
      ],
      "metadata": {
        "id": "RcjARGFJz2pM",
        "colab": {
          "base_uri": "https://localhost:8080/",
          "height": 1000
        },
        "outputId": "b823c237-ea2e-4fa3-e9dc-f3ef0ba74b6c"
      },
      "execution_count": 253,
      "outputs": [
        {
          "output_type": "display_data",
          "data": {
            "text/plain": [
              "   id                                               name    host_id  \\\n",
              "0   1  KiyosumiShirakawa 3min|★SkyTree★|WIFI|Max4|Tre...  242899459   \n",
              "1   2                  Downtown Tokyo Iriya next to Ueno  308879948   \n",
              "2   3        Japan Style,Private,Affordable,4min to Sta.  300877823   \n",
              "3   4    4 min to Shinjuku Sta. by train / 2 ppl / Wi-fi  236935461   \n",
              "4   5      LICENSED SHINJUKU HOUSE: Heart of the action!  243408889   \n",
              "\n",
              "   neighbourhood  latitude  longitude        room_type  minimum_nights  \\\n",
              "0        Koto Ku  35.68185  139.80310  Entire home/apt               1   \n",
              "1       Taito Ku  35.72063  139.78536  Entire home/apt               6   \n",
              "2  Katsushika Ku  35.74723  139.82349  Entire home/apt               1   \n",
              "3     Shibuya Ku  35.68456  139.68077  Entire home/apt               1   \n",
              "4    Shinjuku Ku  35.69840  139.70467  Entire home/apt               1   \n",
              "\n",
              "   number_of_reviews last_review  reviews_per_month  availability_365       y  \n",
              "0                 55  2020-04-25               2.21               173   12008  \n",
              "1                 72  2020-03-25               2.11                 9    6667  \n",
              "2                 18  2020-03-23               3.46               288    9923  \n",
              "3                  2  2020-04-02               1.76                87    8109  \n",
              "4                 86  2020-01-30               2.00               156  100390  "
            ],
            "text/html": [
              "\n",
              "  <div id=\"df-c9850a2b-80b6-4caa-9d18-4b7fec93c959\">\n",
              "    <div class=\"colab-df-container\">\n",
              "      <div>\n",
              "<style scoped>\n",
              "    .dataframe tbody tr th:only-of-type {\n",
              "        vertical-align: middle;\n",
              "    }\n",
              "\n",
              "    .dataframe tbody tr th {\n",
              "        vertical-align: top;\n",
              "    }\n",
              "\n",
              "    .dataframe thead th {\n",
              "        text-align: right;\n",
              "    }\n",
              "</style>\n",
              "<table border=\"1\" class=\"dataframe\">\n",
              "  <thead>\n",
              "    <tr style=\"text-align: right;\">\n",
              "      <th></th>\n",
              "      <th>id</th>\n",
              "      <th>name</th>\n",
              "      <th>host_id</th>\n",
              "      <th>neighbourhood</th>\n",
              "      <th>latitude</th>\n",
              "      <th>longitude</th>\n",
              "      <th>room_type</th>\n",
              "      <th>minimum_nights</th>\n",
              "      <th>number_of_reviews</th>\n",
              "      <th>last_review</th>\n",
              "      <th>reviews_per_month</th>\n",
              "      <th>availability_365</th>\n",
              "      <th>y</th>\n",
              "    </tr>\n",
              "  </thead>\n",
              "  <tbody>\n",
              "    <tr>\n",
              "      <th>0</th>\n",
              "      <td>1</td>\n",
              "      <td>KiyosumiShirakawa 3min|★SkyTree★|WIFI|Max4|Tre...</td>\n",
              "      <td>242899459</td>\n",
              "      <td>Koto Ku</td>\n",
              "      <td>35.68185</td>\n",
              "      <td>139.80310</td>\n",
              "      <td>Entire home/apt</td>\n",
              "      <td>1</td>\n",
              "      <td>55</td>\n",
              "      <td>2020-04-25</td>\n",
              "      <td>2.21</td>\n",
              "      <td>173</td>\n",
              "      <td>12008</td>\n",
              "    </tr>\n",
              "    <tr>\n",
              "      <th>1</th>\n",
              "      <td>2</td>\n",
              "      <td>Downtown Tokyo Iriya next to Ueno</td>\n",
              "      <td>308879948</td>\n",
              "      <td>Taito Ku</td>\n",
              "      <td>35.72063</td>\n",
              "      <td>139.78536</td>\n",
              "      <td>Entire home/apt</td>\n",
              "      <td>6</td>\n",
              "      <td>72</td>\n",
              "      <td>2020-03-25</td>\n",
              "      <td>2.11</td>\n",
              "      <td>9</td>\n",
              "      <td>6667</td>\n",
              "    </tr>\n",
              "    <tr>\n",
              "      <th>2</th>\n",
              "      <td>3</td>\n",
              "      <td>Japan Style,Private,Affordable,4min to Sta.</td>\n",
              "      <td>300877823</td>\n",
              "      <td>Katsushika Ku</td>\n",
              "      <td>35.74723</td>\n",
              "      <td>139.82349</td>\n",
              "      <td>Entire home/apt</td>\n",
              "      <td>1</td>\n",
              "      <td>18</td>\n",
              "      <td>2020-03-23</td>\n",
              "      <td>3.46</td>\n",
              "      <td>288</td>\n",
              "      <td>9923</td>\n",
              "    </tr>\n",
              "    <tr>\n",
              "      <th>3</th>\n",
              "      <td>4</td>\n",
              "      <td>4 min to Shinjuku Sta. by train / 2 ppl / Wi-fi</td>\n",
              "      <td>236935461</td>\n",
              "      <td>Shibuya Ku</td>\n",
              "      <td>35.68456</td>\n",
              "      <td>139.68077</td>\n",
              "      <td>Entire home/apt</td>\n",
              "      <td>1</td>\n",
              "      <td>2</td>\n",
              "      <td>2020-04-02</td>\n",
              "      <td>1.76</td>\n",
              "      <td>87</td>\n",
              "      <td>8109</td>\n",
              "    </tr>\n",
              "    <tr>\n",
              "      <th>4</th>\n",
              "      <td>5</td>\n",
              "      <td>LICENSED SHINJUKU HOUSE: Heart of the action!</td>\n",
              "      <td>243408889</td>\n",
              "      <td>Shinjuku Ku</td>\n",
              "      <td>35.69840</td>\n",
              "      <td>139.70467</td>\n",
              "      <td>Entire home/apt</td>\n",
              "      <td>1</td>\n",
              "      <td>86</td>\n",
              "      <td>2020-01-30</td>\n",
              "      <td>2.00</td>\n",
              "      <td>156</td>\n",
              "      <td>100390</td>\n",
              "    </tr>\n",
              "  </tbody>\n",
              "</table>\n",
              "</div>\n",
              "      <button class=\"colab-df-convert\" onclick=\"convertToInteractive('df-c9850a2b-80b6-4caa-9d18-4b7fec93c959')\"\n",
              "              title=\"Convert this dataframe to an interactive table.\"\n",
              "              style=\"display:none;\">\n",
              "        \n",
              "  <svg xmlns=\"http://www.w3.org/2000/svg\" height=\"24px\"viewBox=\"0 0 24 24\"\n",
              "       width=\"24px\">\n",
              "    <path d=\"M0 0h24v24H0V0z\" fill=\"none\"/>\n",
              "    <path d=\"M18.56 5.44l.94 2.06.94-2.06 2.06-.94-2.06-.94-.94-2.06-.94 2.06-2.06.94zm-11 1L8.5 8.5l.94-2.06 2.06-.94-2.06-.94L8.5 2.5l-.94 2.06-2.06.94zm10 10l.94 2.06.94-2.06 2.06-.94-2.06-.94-.94-2.06-.94 2.06-2.06.94z\"/><path d=\"M17.41 7.96l-1.37-1.37c-.4-.4-.92-.59-1.43-.59-.52 0-1.04.2-1.43.59L10.3 9.45l-7.72 7.72c-.78.78-.78 2.05 0 2.83L4 21.41c.39.39.9.59 1.41.59.51 0 1.02-.2 1.41-.59l7.78-7.78 2.81-2.81c.8-.78.8-2.07 0-2.86zM5.41 20L4 18.59l7.72-7.72 1.47 1.35L5.41 20z\"/>\n",
              "  </svg>\n",
              "      </button>\n",
              "      \n",
              "  <style>\n",
              "    .colab-df-container {\n",
              "      display:flex;\n",
              "      flex-wrap:wrap;\n",
              "      gap: 12px;\n",
              "    }\n",
              "\n",
              "    .colab-df-convert {\n",
              "      background-color: #E8F0FE;\n",
              "      border: none;\n",
              "      border-radius: 50%;\n",
              "      cursor: pointer;\n",
              "      display: none;\n",
              "      fill: #1967D2;\n",
              "      height: 32px;\n",
              "      padding: 0 0 0 0;\n",
              "      width: 32px;\n",
              "    }\n",
              "\n",
              "    .colab-df-convert:hover {\n",
              "      background-color: #E2EBFA;\n",
              "      box-shadow: 0px 1px 2px rgba(60, 64, 67, 0.3), 0px 1px 3px 1px rgba(60, 64, 67, 0.15);\n",
              "      fill: #174EA6;\n",
              "    }\n",
              "\n",
              "    [theme=dark] .colab-df-convert {\n",
              "      background-color: #3B4455;\n",
              "      fill: #D2E3FC;\n",
              "    }\n",
              "\n",
              "    [theme=dark] .colab-df-convert:hover {\n",
              "      background-color: #434B5C;\n",
              "      box-shadow: 0px 1px 3px 1px rgba(0, 0, 0, 0.15);\n",
              "      filter: drop-shadow(0px 1px 2px rgba(0, 0, 0, 0.3));\n",
              "      fill: #FFFFFF;\n",
              "    }\n",
              "  </style>\n",
              "\n",
              "      <script>\n",
              "        const buttonEl =\n",
              "          document.querySelector('#df-c9850a2b-80b6-4caa-9d18-4b7fec93c959 button.colab-df-convert');\n",
              "        buttonEl.style.display =\n",
              "          google.colab.kernel.accessAllowed ? 'block' : 'none';\n",
              "\n",
              "        async function convertToInteractive(key) {\n",
              "          const element = document.querySelector('#df-c9850a2b-80b6-4caa-9d18-4b7fec93c959');\n",
              "          const dataTable =\n",
              "            await google.colab.kernel.invokeFunction('convertToInteractive',\n",
              "                                                     [key], {});\n",
              "          if (!dataTable) return;\n",
              "\n",
              "          const docLinkHtml = 'Like what you see? Visit the ' +\n",
              "            '<a target=\"_blank\" href=https://colab.research.google.com/notebooks/data_table.ipynb>data table notebook</a>'\n",
              "            + ' to learn more about interactive tables.';\n",
              "          element.innerHTML = '';\n",
              "          dataTable['output_type'] = 'display_data';\n",
              "          await google.colab.output.renderOutput(dataTable, element);\n",
              "          const docLink = document.createElement('div');\n",
              "          docLink.innerHTML = docLinkHtml;\n",
              "          element.appendChild(docLink);\n",
              "        }\n",
              "      </script>\n",
              "    </div>\n",
              "  </div>\n",
              "  "
            ]
          },
          "metadata": {}
        },
        {
          "output_type": "display_data",
          "data": {
            "text/plain": [
              "   id                                               name    host_id  \\\n",
              "0   1    5-minute walk from Akasaka Sta, Superior double  184730720   \n",
              "1   2       7 min Sta.-Center of IKEBUKURO Cozy Room#503   20993205   \n",
              "2   3  Designer'sApt 1min sta☆Shinjuku 7min☆Shibuya 4min  322521715   \n",
              "3   4                 Komagome Station 2 minutes on foot  234477095   \n",
              "4   5    Monthly/Metro1min/JR5min/Ueno,Asakusa,Akihabara  145453833   \n",
              "\n",
              "  neighbourhood  latitude  longitude        room_type  minimum_nights  \\\n",
              "0     Minato Ku  35.67131  139.73285     Private room               1   \n",
              "1    Toshima Ku  35.73014  139.71739  Entire home/apt               2   \n",
              "2   Setagaya Ku  35.66193  139.66540  Entire home/apt               1   \n",
              "3    Toshima Ku  35.73603  139.74794  Entire home/apt               1   \n",
              "4      Taito Ku  35.72126  139.78320  Entire home/apt              30   \n",
              "\n",
              "   number_of_reviews last_review  reviews_per_month  availability_365  \n",
              "0                  0         NaN                NaN               183  \n",
              "1                 21  2020-04-16               1.94               337  \n",
              "2                 14  2020-02-12               0.82               240  \n",
              "3                 16  2020-02-17               1.19                 0  \n",
              "4                  2  2019-07-21               0.19               164  "
            ],
            "text/html": [
              "\n",
              "  <div id=\"df-faee2855-fc84-4f91-a4de-7e1c2263d038\">\n",
              "    <div class=\"colab-df-container\">\n",
              "      <div>\n",
              "<style scoped>\n",
              "    .dataframe tbody tr th:only-of-type {\n",
              "        vertical-align: middle;\n",
              "    }\n",
              "\n",
              "    .dataframe tbody tr th {\n",
              "        vertical-align: top;\n",
              "    }\n",
              "\n",
              "    .dataframe thead th {\n",
              "        text-align: right;\n",
              "    }\n",
              "</style>\n",
              "<table border=\"1\" class=\"dataframe\">\n",
              "  <thead>\n",
              "    <tr style=\"text-align: right;\">\n",
              "      <th></th>\n",
              "      <th>id</th>\n",
              "      <th>name</th>\n",
              "      <th>host_id</th>\n",
              "      <th>neighbourhood</th>\n",
              "      <th>latitude</th>\n",
              "      <th>longitude</th>\n",
              "      <th>room_type</th>\n",
              "      <th>minimum_nights</th>\n",
              "      <th>number_of_reviews</th>\n",
              "      <th>last_review</th>\n",
              "      <th>reviews_per_month</th>\n",
              "      <th>availability_365</th>\n",
              "    </tr>\n",
              "  </thead>\n",
              "  <tbody>\n",
              "    <tr>\n",
              "      <th>0</th>\n",
              "      <td>1</td>\n",
              "      <td>5-minute walk from Akasaka Sta, Superior double</td>\n",
              "      <td>184730720</td>\n",
              "      <td>Minato Ku</td>\n",
              "      <td>35.67131</td>\n",
              "      <td>139.73285</td>\n",
              "      <td>Private room</td>\n",
              "      <td>1</td>\n",
              "      <td>0</td>\n",
              "      <td>NaN</td>\n",
              "      <td>NaN</td>\n",
              "      <td>183</td>\n",
              "    </tr>\n",
              "    <tr>\n",
              "      <th>1</th>\n",
              "      <td>2</td>\n",
              "      <td>7 min Sta.-Center of IKEBUKURO Cozy Room#503</td>\n",
              "      <td>20993205</td>\n",
              "      <td>Toshima Ku</td>\n",
              "      <td>35.73014</td>\n",
              "      <td>139.71739</td>\n",
              "      <td>Entire home/apt</td>\n",
              "      <td>2</td>\n",
              "      <td>21</td>\n",
              "      <td>2020-04-16</td>\n",
              "      <td>1.94</td>\n",
              "      <td>337</td>\n",
              "    </tr>\n",
              "    <tr>\n",
              "      <th>2</th>\n",
              "      <td>3</td>\n",
              "      <td>Designer'sApt 1min sta☆Shinjuku 7min☆Shibuya 4min</td>\n",
              "      <td>322521715</td>\n",
              "      <td>Setagaya Ku</td>\n",
              "      <td>35.66193</td>\n",
              "      <td>139.66540</td>\n",
              "      <td>Entire home/apt</td>\n",
              "      <td>1</td>\n",
              "      <td>14</td>\n",
              "      <td>2020-02-12</td>\n",
              "      <td>0.82</td>\n",
              "      <td>240</td>\n",
              "    </tr>\n",
              "    <tr>\n",
              "      <th>3</th>\n",
              "      <td>4</td>\n",
              "      <td>Komagome Station 2 minutes on foot</td>\n",
              "      <td>234477095</td>\n",
              "      <td>Toshima Ku</td>\n",
              "      <td>35.73603</td>\n",
              "      <td>139.74794</td>\n",
              "      <td>Entire home/apt</td>\n",
              "      <td>1</td>\n",
              "      <td>16</td>\n",
              "      <td>2020-02-17</td>\n",
              "      <td>1.19</td>\n",
              "      <td>0</td>\n",
              "    </tr>\n",
              "    <tr>\n",
              "      <th>4</th>\n",
              "      <td>5</td>\n",
              "      <td>Monthly/Metro1min/JR5min/Ueno,Asakusa,Akihabara</td>\n",
              "      <td>145453833</td>\n",
              "      <td>Taito Ku</td>\n",
              "      <td>35.72126</td>\n",
              "      <td>139.78320</td>\n",
              "      <td>Entire home/apt</td>\n",
              "      <td>30</td>\n",
              "      <td>2</td>\n",
              "      <td>2019-07-21</td>\n",
              "      <td>0.19</td>\n",
              "      <td>164</td>\n",
              "    </tr>\n",
              "  </tbody>\n",
              "</table>\n",
              "</div>\n",
              "      <button class=\"colab-df-convert\" onclick=\"convertToInteractive('df-faee2855-fc84-4f91-a4de-7e1c2263d038')\"\n",
              "              title=\"Convert this dataframe to an interactive table.\"\n",
              "              style=\"display:none;\">\n",
              "        \n",
              "  <svg xmlns=\"http://www.w3.org/2000/svg\" height=\"24px\"viewBox=\"0 0 24 24\"\n",
              "       width=\"24px\">\n",
              "    <path d=\"M0 0h24v24H0V0z\" fill=\"none\"/>\n",
              "    <path d=\"M18.56 5.44l.94 2.06.94-2.06 2.06-.94-2.06-.94-.94-2.06-.94 2.06-2.06.94zm-11 1L8.5 8.5l.94-2.06 2.06-.94-2.06-.94L8.5 2.5l-.94 2.06-2.06.94zm10 10l.94 2.06.94-2.06 2.06-.94-2.06-.94-.94-2.06-.94 2.06-2.06.94z\"/><path d=\"M17.41 7.96l-1.37-1.37c-.4-.4-.92-.59-1.43-.59-.52 0-1.04.2-1.43.59L10.3 9.45l-7.72 7.72c-.78.78-.78 2.05 0 2.83L4 21.41c.39.39.9.59 1.41.59.51 0 1.02-.2 1.41-.59l7.78-7.78 2.81-2.81c.8-.78.8-2.07 0-2.86zM5.41 20L4 18.59l7.72-7.72 1.47 1.35L5.41 20z\"/>\n",
              "  </svg>\n",
              "      </button>\n",
              "      \n",
              "  <style>\n",
              "    .colab-df-container {\n",
              "      display:flex;\n",
              "      flex-wrap:wrap;\n",
              "      gap: 12px;\n",
              "    }\n",
              "\n",
              "    .colab-df-convert {\n",
              "      background-color: #E8F0FE;\n",
              "      border: none;\n",
              "      border-radius: 50%;\n",
              "      cursor: pointer;\n",
              "      display: none;\n",
              "      fill: #1967D2;\n",
              "      height: 32px;\n",
              "      padding: 0 0 0 0;\n",
              "      width: 32px;\n",
              "    }\n",
              "\n",
              "    .colab-df-convert:hover {\n",
              "      background-color: #E2EBFA;\n",
              "      box-shadow: 0px 1px 2px rgba(60, 64, 67, 0.3), 0px 1px 3px 1px rgba(60, 64, 67, 0.15);\n",
              "      fill: #174EA6;\n",
              "    }\n",
              "\n",
              "    [theme=dark] .colab-df-convert {\n",
              "      background-color: #3B4455;\n",
              "      fill: #D2E3FC;\n",
              "    }\n",
              "\n",
              "    [theme=dark] .colab-df-convert:hover {\n",
              "      background-color: #434B5C;\n",
              "      box-shadow: 0px 1px 3px 1px rgba(0, 0, 0, 0.15);\n",
              "      filter: drop-shadow(0px 1px 2px rgba(0, 0, 0, 0.3));\n",
              "      fill: #FFFFFF;\n",
              "    }\n",
              "  </style>\n",
              "\n",
              "      <script>\n",
              "        const buttonEl =\n",
              "          document.querySelector('#df-faee2855-fc84-4f91-a4de-7e1c2263d038 button.colab-df-convert');\n",
              "        buttonEl.style.display =\n",
              "          google.colab.kernel.accessAllowed ? 'block' : 'none';\n",
              "\n",
              "        async function convertToInteractive(key) {\n",
              "          const element = document.querySelector('#df-faee2855-fc84-4f91-a4de-7e1c2263d038');\n",
              "          const dataTable =\n",
              "            await google.colab.kernel.invokeFunction('convertToInteractive',\n",
              "                                                     [key], {});\n",
              "          if (!dataTable) return;\n",
              "\n",
              "          const docLinkHtml = 'Like what you see? Visit the ' +\n",
              "            '<a target=\"_blank\" href=https://colab.research.google.com/notebooks/data_table.ipynb>data table notebook</a>'\n",
              "            + ' to learn more about interactive tables.';\n",
              "          element.innerHTML = '';\n",
              "          dataTable['output_type'] = 'display_data';\n",
              "          await google.colab.output.renderOutput(dataTable, element);\n",
              "          const docLink = document.createElement('div');\n",
              "          docLink.innerHTML = docLinkHtml;\n",
              "          element.appendChild(docLink);\n",
              "        }\n",
              "      </script>\n",
              "    </div>\n",
              "  </div>\n",
              "  "
            ]
          },
          "metadata": {}
        },
        {
          "output_type": "display_data",
          "data": {
            "text/plain": [
              "  station_name   longitude   latitude\n",
              "0           白丸  139.114861  35.811735\n",
              "1           古里  139.152102  35.816247\n",
              "2           川井  139.164290  35.813697\n",
              "3           御嶽  139.182589  35.801468\n",
              "4           沢井  139.193324  35.805940"
            ],
            "text/html": [
              "\n",
              "  <div id=\"df-3c03f9cf-b03f-4535-b376-1e82b609046f\">\n",
              "    <div class=\"colab-df-container\">\n",
              "      <div>\n",
              "<style scoped>\n",
              "    .dataframe tbody tr th:only-of-type {\n",
              "        vertical-align: middle;\n",
              "    }\n",
              "\n",
              "    .dataframe tbody tr th {\n",
              "        vertical-align: top;\n",
              "    }\n",
              "\n",
              "    .dataframe thead th {\n",
              "        text-align: right;\n",
              "    }\n",
              "</style>\n",
              "<table border=\"1\" class=\"dataframe\">\n",
              "  <thead>\n",
              "    <tr style=\"text-align: right;\">\n",
              "      <th></th>\n",
              "      <th>station_name</th>\n",
              "      <th>longitude</th>\n",
              "      <th>latitude</th>\n",
              "    </tr>\n",
              "  </thead>\n",
              "  <tbody>\n",
              "    <tr>\n",
              "      <th>0</th>\n",
              "      <td>白丸</td>\n",
              "      <td>139.114861</td>\n",
              "      <td>35.811735</td>\n",
              "    </tr>\n",
              "    <tr>\n",
              "      <th>1</th>\n",
              "      <td>古里</td>\n",
              "      <td>139.152102</td>\n",
              "      <td>35.816247</td>\n",
              "    </tr>\n",
              "    <tr>\n",
              "      <th>2</th>\n",
              "      <td>川井</td>\n",
              "      <td>139.164290</td>\n",
              "      <td>35.813697</td>\n",
              "    </tr>\n",
              "    <tr>\n",
              "      <th>3</th>\n",
              "      <td>御嶽</td>\n",
              "      <td>139.182589</td>\n",
              "      <td>35.801468</td>\n",
              "    </tr>\n",
              "    <tr>\n",
              "      <th>4</th>\n",
              "      <td>沢井</td>\n",
              "      <td>139.193324</td>\n",
              "      <td>35.805940</td>\n",
              "    </tr>\n",
              "  </tbody>\n",
              "</table>\n",
              "</div>\n",
              "      <button class=\"colab-df-convert\" onclick=\"convertToInteractive('df-3c03f9cf-b03f-4535-b376-1e82b609046f')\"\n",
              "              title=\"Convert this dataframe to an interactive table.\"\n",
              "              style=\"display:none;\">\n",
              "        \n",
              "  <svg xmlns=\"http://www.w3.org/2000/svg\" height=\"24px\"viewBox=\"0 0 24 24\"\n",
              "       width=\"24px\">\n",
              "    <path d=\"M0 0h24v24H0V0z\" fill=\"none\"/>\n",
              "    <path d=\"M18.56 5.44l.94 2.06.94-2.06 2.06-.94-2.06-.94-.94-2.06-.94 2.06-2.06.94zm-11 1L8.5 8.5l.94-2.06 2.06-.94-2.06-.94L8.5 2.5l-.94 2.06-2.06.94zm10 10l.94 2.06.94-2.06 2.06-.94-2.06-.94-.94-2.06-.94 2.06-2.06.94z\"/><path d=\"M17.41 7.96l-1.37-1.37c-.4-.4-.92-.59-1.43-.59-.52 0-1.04.2-1.43.59L10.3 9.45l-7.72 7.72c-.78.78-.78 2.05 0 2.83L4 21.41c.39.39.9.59 1.41.59.51 0 1.02-.2 1.41-.59l7.78-7.78 2.81-2.81c.8-.78.8-2.07 0-2.86zM5.41 20L4 18.59l7.72-7.72 1.47 1.35L5.41 20z\"/>\n",
              "  </svg>\n",
              "      </button>\n",
              "      \n",
              "  <style>\n",
              "    .colab-df-container {\n",
              "      display:flex;\n",
              "      flex-wrap:wrap;\n",
              "      gap: 12px;\n",
              "    }\n",
              "\n",
              "    .colab-df-convert {\n",
              "      background-color: #E8F0FE;\n",
              "      border: none;\n",
              "      border-radius: 50%;\n",
              "      cursor: pointer;\n",
              "      display: none;\n",
              "      fill: #1967D2;\n",
              "      height: 32px;\n",
              "      padding: 0 0 0 0;\n",
              "      width: 32px;\n",
              "    }\n",
              "\n",
              "    .colab-df-convert:hover {\n",
              "      background-color: #E2EBFA;\n",
              "      box-shadow: 0px 1px 2px rgba(60, 64, 67, 0.3), 0px 1px 3px 1px rgba(60, 64, 67, 0.15);\n",
              "      fill: #174EA6;\n",
              "    }\n",
              "\n",
              "    [theme=dark] .colab-df-convert {\n",
              "      background-color: #3B4455;\n",
              "      fill: #D2E3FC;\n",
              "    }\n",
              "\n",
              "    [theme=dark] .colab-df-convert:hover {\n",
              "      background-color: #434B5C;\n",
              "      box-shadow: 0px 1px 3px 1px rgba(0, 0, 0, 0.15);\n",
              "      filter: drop-shadow(0px 1px 2px rgba(0, 0, 0, 0.3));\n",
              "      fill: #FFFFFF;\n",
              "    }\n",
              "  </style>\n",
              "\n",
              "      <script>\n",
              "        const buttonEl =\n",
              "          document.querySelector('#df-3c03f9cf-b03f-4535-b376-1e82b609046f button.colab-df-convert');\n",
              "        buttonEl.style.display =\n",
              "          google.colab.kernel.accessAllowed ? 'block' : 'none';\n",
              "\n",
              "        async function convertToInteractive(key) {\n",
              "          const element = document.querySelector('#df-3c03f9cf-b03f-4535-b376-1e82b609046f');\n",
              "          const dataTable =\n",
              "            await google.colab.kernel.invokeFunction('convertToInteractive',\n",
              "                                                     [key], {});\n",
              "          if (!dataTable) return;\n",
              "\n",
              "          const docLinkHtml = 'Like what you see? Visit the ' +\n",
              "            '<a target=\"_blank\" href=https://colab.research.google.com/notebooks/data_table.ipynb>data table notebook</a>'\n",
              "            + ' to learn more about interactive tables.';\n",
              "          element.innerHTML = '';\n",
              "          dataTable['output_type'] = 'display_data';\n",
              "          await google.colab.output.renderOutput(dataTable, element);\n",
              "          const docLink = document.createElement('div');\n",
              "          docLink.innerHTML = docLinkHtml;\n",
              "          element.appendChild(docLink);\n",
              "        }\n",
              "      </script>\n",
              "    </div>\n",
              "  </div>\n",
              "  "
            ]
          },
          "metadata": {}
        },
        {
          "output_type": "display_data",
          "data": {
            "text/plain": [
              "   id      y\n",
              "0   1  49108\n",
              "1   2  12644\n",
              "2   3  34576\n",
              "3   4  87371\n",
              "4   5    287"
            ],
            "text/html": [
              "\n",
              "  <div id=\"df-dbc53ac2-eb33-4bde-b625-7c1e710f1882\">\n",
              "    <div class=\"colab-df-container\">\n",
              "      <div>\n",
              "<style scoped>\n",
              "    .dataframe tbody tr th:only-of-type {\n",
              "        vertical-align: middle;\n",
              "    }\n",
              "\n",
              "    .dataframe tbody tr th {\n",
              "        vertical-align: top;\n",
              "    }\n",
              "\n",
              "    .dataframe thead th {\n",
              "        text-align: right;\n",
              "    }\n",
              "</style>\n",
              "<table border=\"1\" class=\"dataframe\">\n",
              "  <thead>\n",
              "    <tr style=\"text-align: right;\">\n",
              "      <th></th>\n",
              "      <th>id</th>\n",
              "      <th>y</th>\n",
              "    </tr>\n",
              "  </thead>\n",
              "  <tbody>\n",
              "    <tr>\n",
              "      <th>0</th>\n",
              "      <td>1</td>\n",
              "      <td>49108</td>\n",
              "    </tr>\n",
              "    <tr>\n",
              "      <th>1</th>\n",
              "      <td>2</td>\n",
              "      <td>12644</td>\n",
              "    </tr>\n",
              "    <tr>\n",
              "      <th>2</th>\n",
              "      <td>3</td>\n",
              "      <td>34576</td>\n",
              "    </tr>\n",
              "    <tr>\n",
              "      <th>3</th>\n",
              "      <td>4</td>\n",
              "      <td>87371</td>\n",
              "    </tr>\n",
              "    <tr>\n",
              "      <th>4</th>\n",
              "      <td>5</td>\n",
              "      <td>287</td>\n",
              "    </tr>\n",
              "  </tbody>\n",
              "</table>\n",
              "</div>\n",
              "      <button class=\"colab-df-convert\" onclick=\"convertToInteractive('df-dbc53ac2-eb33-4bde-b625-7c1e710f1882')\"\n",
              "              title=\"Convert this dataframe to an interactive table.\"\n",
              "              style=\"display:none;\">\n",
              "        \n",
              "  <svg xmlns=\"http://www.w3.org/2000/svg\" height=\"24px\"viewBox=\"0 0 24 24\"\n",
              "       width=\"24px\">\n",
              "    <path d=\"M0 0h24v24H0V0z\" fill=\"none\"/>\n",
              "    <path d=\"M18.56 5.44l.94 2.06.94-2.06 2.06-.94-2.06-.94-.94-2.06-.94 2.06-2.06.94zm-11 1L8.5 8.5l.94-2.06 2.06-.94-2.06-.94L8.5 2.5l-.94 2.06-2.06.94zm10 10l.94 2.06.94-2.06 2.06-.94-2.06-.94-.94-2.06-.94 2.06-2.06.94z\"/><path d=\"M17.41 7.96l-1.37-1.37c-.4-.4-.92-.59-1.43-.59-.52 0-1.04.2-1.43.59L10.3 9.45l-7.72 7.72c-.78.78-.78 2.05 0 2.83L4 21.41c.39.39.9.59 1.41.59.51 0 1.02-.2 1.41-.59l7.78-7.78 2.81-2.81c.8-.78.8-2.07 0-2.86zM5.41 20L4 18.59l7.72-7.72 1.47 1.35L5.41 20z\"/>\n",
              "  </svg>\n",
              "      </button>\n",
              "      \n",
              "  <style>\n",
              "    .colab-df-container {\n",
              "      display:flex;\n",
              "      flex-wrap:wrap;\n",
              "      gap: 12px;\n",
              "    }\n",
              "\n",
              "    .colab-df-convert {\n",
              "      background-color: #E8F0FE;\n",
              "      border: none;\n",
              "      border-radius: 50%;\n",
              "      cursor: pointer;\n",
              "      display: none;\n",
              "      fill: #1967D2;\n",
              "      height: 32px;\n",
              "      padding: 0 0 0 0;\n",
              "      width: 32px;\n",
              "    }\n",
              "\n",
              "    .colab-df-convert:hover {\n",
              "      background-color: #E2EBFA;\n",
              "      box-shadow: 0px 1px 2px rgba(60, 64, 67, 0.3), 0px 1px 3px 1px rgba(60, 64, 67, 0.15);\n",
              "      fill: #174EA6;\n",
              "    }\n",
              "\n",
              "    [theme=dark] .colab-df-convert {\n",
              "      background-color: #3B4455;\n",
              "      fill: #D2E3FC;\n",
              "    }\n",
              "\n",
              "    [theme=dark] .colab-df-convert:hover {\n",
              "      background-color: #434B5C;\n",
              "      box-shadow: 0px 1px 3px 1px rgba(0, 0, 0, 0.15);\n",
              "      filter: drop-shadow(0px 1px 2px rgba(0, 0, 0, 0.3));\n",
              "      fill: #FFFFFF;\n",
              "    }\n",
              "  </style>\n",
              "\n",
              "      <script>\n",
              "        const buttonEl =\n",
              "          document.querySelector('#df-dbc53ac2-eb33-4bde-b625-7c1e710f1882 button.colab-df-convert');\n",
              "        buttonEl.style.display =\n",
              "          google.colab.kernel.accessAllowed ? 'block' : 'none';\n",
              "\n",
              "        async function convertToInteractive(key) {\n",
              "          const element = document.querySelector('#df-dbc53ac2-eb33-4bde-b625-7c1e710f1882');\n",
              "          const dataTable =\n",
              "            await google.colab.kernel.invokeFunction('convertToInteractive',\n",
              "                                                     [key], {});\n",
              "          if (!dataTable) return;\n",
              "\n",
              "          const docLinkHtml = 'Like what you see? Visit the ' +\n",
              "            '<a target=\"_blank\" href=https://colab.research.google.com/notebooks/data_table.ipynb>data table notebook</a>'\n",
              "            + ' to learn more about interactive tables.';\n",
              "          element.innerHTML = '';\n",
              "          dataTable['output_type'] = 'display_data';\n",
              "          await google.colab.output.renderOutput(dataTable, element);\n",
              "          const docLink = document.createElement('div');\n",
              "          docLink.innerHTML = docLinkHtml;\n",
              "          element.appendChild(docLink);\n",
              "        }\n",
              "      </script>\n",
              "    </div>\n",
              "  </div>\n",
              "  "
            ]
          },
          "metadata": {}
        },
        {
          "output_type": "display_data",
          "data": {
            "text/plain": [
              "   id                                               name    host_id  \\\n",
              "0   1  KiyosumiShirakawa 3min|★SkyTree★|WIFI|Max4|Tre...  242899459   \n",
              "1   2                  Downtown Tokyo Iriya next to Ueno  308879948   \n",
              "2   3        Japan Style,Private,Affordable,4min to Sta.  300877823   \n",
              "3   4    4 min to Shinjuku Sta. by train / 2 ppl / Wi-fi  236935461   \n",
              "4   5      LICENSED SHINJUKU HOUSE: Heart of the action!  243408889   \n",
              "\n",
              "   neighbourhood  latitude  longitude        room_type  minimum_nights  \\\n",
              "0        Koto Ku  35.68185  139.80310  Entire home/apt               1   \n",
              "1       Taito Ku  35.72063  139.78536  Entire home/apt               6   \n",
              "2  Katsushika Ku  35.74723  139.82349  Entire home/apt               1   \n",
              "3     Shibuya Ku  35.68456  139.68077  Entire home/apt               1   \n",
              "4    Shinjuku Ku  35.69840  139.70467  Entire home/apt               1   \n",
              "\n",
              "   number_of_reviews last_review  reviews_per_month  availability_365  \\\n",
              "0                 55  2020-04-25               2.21               173   \n",
              "1                 72  2020-03-25               2.11                 9   \n",
              "2                 18  2020-03-23               3.46               288   \n",
              "3                  2  2020-04-02               1.76                87   \n",
              "4                 86  2020-01-30               2.00               156   \n",
              "\n",
              "          y  \n",
              "0   12008.0  \n",
              "1    6667.0  \n",
              "2    9923.0  \n",
              "3    8109.0  \n",
              "4  100390.0  "
            ],
            "text/html": [
              "\n",
              "  <div id=\"df-979ce30a-7235-4768-a118-d337daa13bf5\">\n",
              "    <div class=\"colab-df-container\">\n",
              "      <div>\n",
              "<style scoped>\n",
              "    .dataframe tbody tr th:only-of-type {\n",
              "        vertical-align: middle;\n",
              "    }\n",
              "\n",
              "    .dataframe tbody tr th {\n",
              "        vertical-align: top;\n",
              "    }\n",
              "\n",
              "    .dataframe thead th {\n",
              "        text-align: right;\n",
              "    }\n",
              "</style>\n",
              "<table border=\"1\" class=\"dataframe\">\n",
              "  <thead>\n",
              "    <tr style=\"text-align: right;\">\n",
              "      <th></th>\n",
              "      <th>id</th>\n",
              "      <th>name</th>\n",
              "      <th>host_id</th>\n",
              "      <th>neighbourhood</th>\n",
              "      <th>latitude</th>\n",
              "      <th>longitude</th>\n",
              "      <th>room_type</th>\n",
              "      <th>minimum_nights</th>\n",
              "      <th>number_of_reviews</th>\n",
              "      <th>last_review</th>\n",
              "      <th>reviews_per_month</th>\n",
              "      <th>availability_365</th>\n",
              "      <th>y</th>\n",
              "    </tr>\n",
              "  </thead>\n",
              "  <tbody>\n",
              "    <tr>\n",
              "      <th>0</th>\n",
              "      <td>1</td>\n",
              "      <td>KiyosumiShirakawa 3min|★SkyTree★|WIFI|Max4|Tre...</td>\n",
              "      <td>242899459</td>\n",
              "      <td>Koto Ku</td>\n",
              "      <td>35.68185</td>\n",
              "      <td>139.80310</td>\n",
              "      <td>Entire home/apt</td>\n",
              "      <td>1</td>\n",
              "      <td>55</td>\n",
              "      <td>2020-04-25</td>\n",
              "      <td>2.21</td>\n",
              "      <td>173</td>\n",
              "      <td>12008.0</td>\n",
              "    </tr>\n",
              "    <tr>\n",
              "      <th>1</th>\n",
              "      <td>2</td>\n",
              "      <td>Downtown Tokyo Iriya next to Ueno</td>\n",
              "      <td>308879948</td>\n",
              "      <td>Taito Ku</td>\n",
              "      <td>35.72063</td>\n",
              "      <td>139.78536</td>\n",
              "      <td>Entire home/apt</td>\n",
              "      <td>6</td>\n",
              "      <td>72</td>\n",
              "      <td>2020-03-25</td>\n",
              "      <td>2.11</td>\n",
              "      <td>9</td>\n",
              "      <td>6667.0</td>\n",
              "    </tr>\n",
              "    <tr>\n",
              "      <th>2</th>\n",
              "      <td>3</td>\n",
              "      <td>Japan Style,Private,Affordable,4min to Sta.</td>\n",
              "      <td>300877823</td>\n",
              "      <td>Katsushika Ku</td>\n",
              "      <td>35.74723</td>\n",
              "      <td>139.82349</td>\n",
              "      <td>Entire home/apt</td>\n",
              "      <td>1</td>\n",
              "      <td>18</td>\n",
              "      <td>2020-03-23</td>\n",
              "      <td>3.46</td>\n",
              "      <td>288</td>\n",
              "      <td>9923.0</td>\n",
              "    </tr>\n",
              "    <tr>\n",
              "      <th>3</th>\n",
              "      <td>4</td>\n",
              "      <td>4 min to Shinjuku Sta. by train / 2 ppl / Wi-fi</td>\n",
              "      <td>236935461</td>\n",
              "      <td>Shibuya Ku</td>\n",
              "      <td>35.68456</td>\n",
              "      <td>139.68077</td>\n",
              "      <td>Entire home/apt</td>\n",
              "      <td>1</td>\n",
              "      <td>2</td>\n",
              "      <td>2020-04-02</td>\n",
              "      <td>1.76</td>\n",
              "      <td>87</td>\n",
              "      <td>8109.0</td>\n",
              "    </tr>\n",
              "    <tr>\n",
              "      <th>4</th>\n",
              "      <td>5</td>\n",
              "      <td>LICENSED SHINJUKU HOUSE: Heart of the action!</td>\n",
              "      <td>243408889</td>\n",
              "      <td>Shinjuku Ku</td>\n",
              "      <td>35.69840</td>\n",
              "      <td>139.70467</td>\n",
              "      <td>Entire home/apt</td>\n",
              "      <td>1</td>\n",
              "      <td>86</td>\n",
              "      <td>2020-01-30</td>\n",
              "      <td>2.00</td>\n",
              "      <td>156</td>\n",
              "      <td>100390.0</td>\n",
              "    </tr>\n",
              "  </tbody>\n",
              "</table>\n",
              "</div>\n",
              "      <button class=\"colab-df-convert\" onclick=\"convertToInteractive('df-979ce30a-7235-4768-a118-d337daa13bf5')\"\n",
              "              title=\"Convert this dataframe to an interactive table.\"\n",
              "              style=\"display:none;\">\n",
              "        \n",
              "  <svg xmlns=\"http://www.w3.org/2000/svg\" height=\"24px\"viewBox=\"0 0 24 24\"\n",
              "       width=\"24px\">\n",
              "    <path d=\"M0 0h24v24H0V0z\" fill=\"none\"/>\n",
              "    <path d=\"M18.56 5.44l.94 2.06.94-2.06 2.06-.94-2.06-.94-.94-2.06-.94 2.06-2.06.94zm-11 1L8.5 8.5l.94-2.06 2.06-.94-2.06-.94L8.5 2.5l-.94 2.06-2.06.94zm10 10l.94 2.06.94-2.06 2.06-.94-2.06-.94-.94-2.06-.94 2.06-2.06.94z\"/><path d=\"M17.41 7.96l-1.37-1.37c-.4-.4-.92-.59-1.43-.59-.52 0-1.04.2-1.43.59L10.3 9.45l-7.72 7.72c-.78.78-.78 2.05 0 2.83L4 21.41c.39.39.9.59 1.41.59.51 0 1.02-.2 1.41-.59l7.78-7.78 2.81-2.81c.8-.78.8-2.07 0-2.86zM5.41 20L4 18.59l7.72-7.72 1.47 1.35L5.41 20z\"/>\n",
              "  </svg>\n",
              "      </button>\n",
              "      \n",
              "  <style>\n",
              "    .colab-df-container {\n",
              "      display:flex;\n",
              "      flex-wrap:wrap;\n",
              "      gap: 12px;\n",
              "    }\n",
              "\n",
              "    .colab-df-convert {\n",
              "      background-color: #E8F0FE;\n",
              "      border: none;\n",
              "      border-radius: 50%;\n",
              "      cursor: pointer;\n",
              "      display: none;\n",
              "      fill: #1967D2;\n",
              "      height: 32px;\n",
              "      padding: 0 0 0 0;\n",
              "      width: 32px;\n",
              "    }\n",
              "\n",
              "    .colab-df-convert:hover {\n",
              "      background-color: #E2EBFA;\n",
              "      box-shadow: 0px 1px 2px rgba(60, 64, 67, 0.3), 0px 1px 3px 1px rgba(60, 64, 67, 0.15);\n",
              "      fill: #174EA6;\n",
              "    }\n",
              "\n",
              "    [theme=dark] .colab-df-convert {\n",
              "      background-color: #3B4455;\n",
              "      fill: #D2E3FC;\n",
              "    }\n",
              "\n",
              "    [theme=dark] .colab-df-convert:hover {\n",
              "      background-color: #434B5C;\n",
              "      box-shadow: 0px 1px 3px 1px rgba(0, 0, 0, 0.15);\n",
              "      filter: drop-shadow(0px 1px 2px rgba(0, 0, 0, 0.3));\n",
              "      fill: #FFFFFF;\n",
              "    }\n",
              "  </style>\n",
              "\n",
              "      <script>\n",
              "        const buttonEl =\n",
              "          document.querySelector('#df-979ce30a-7235-4768-a118-d337daa13bf5 button.colab-df-convert');\n",
              "        buttonEl.style.display =\n",
              "          google.colab.kernel.accessAllowed ? 'block' : 'none';\n",
              "\n",
              "        async function convertToInteractive(key) {\n",
              "          const element = document.querySelector('#df-979ce30a-7235-4768-a118-d337daa13bf5');\n",
              "          const dataTable =\n",
              "            await google.colab.kernel.invokeFunction('convertToInteractive',\n",
              "                                                     [key], {});\n",
              "          if (!dataTable) return;\n",
              "\n",
              "          const docLinkHtml = 'Like what you see? Visit the ' +\n",
              "            '<a target=\"_blank\" href=https://colab.research.google.com/notebooks/data_table.ipynb>data table notebook</a>'\n",
              "            + ' to learn more about interactive tables.';\n",
              "          element.innerHTML = '';\n",
              "          dataTable['output_type'] = 'display_data';\n",
              "          await google.colab.output.renderOutput(dataTable, element);\n",
              "          const docLink = document.createElement('div');\n",
              "          docLink.innerHTML = docLinkHtml;\n",
              "          element.appendChild(docLink);\n",
              "        }\n",
              "      </script>\n",
              "    </div>\n",
              "  </div>\n",
              "  "
            ]
          },
          "metadata": {}
        }
      ]
    },
    {
      "cell_type": "markdown",
      "source": [
        "# 欠損値確認  \n",
        "last_review\n",
        "reviews_per_month\n",
        "に同数の欠損あり\n",
        "At　this time. reviews is 0."
      ],
      "metadata": {
        "id": "jrMby5tThE3t"
      }
    },
    {
      "cell_type": "code",
      "source": [
        "display(data.isnull().sum())\n",
        "# display((data['last_review'].isnull()).sum())\n",
        "# display((data['reviews_per_month'].isnull()).sum())\n",
        "# display((data['number_of_reviews'] == 0).sum())\n",
        "##number_of_reviews が ０の時のlast_review, reviews_per_month が同数か確認 > 同数（train,test共に）\n",
        "# display(train[train['number_of_reviews'] == 0].isnull().sum())\n",
        "# display(test[test['number_of_reviews'] == 0].isnull().sum())\n",
        "# display(data[data['number_of_reviews'] == 0].isnull().sum())\n",
        "data['last_review'] = data['last_review'].fillna(method='ffill')\n",
        "data['reviews_per_month'] = data['reviews_per_month'].fillna(method='ffill')\n",
        "display(data.isnull().sum())\n"
      ],
      "metadata": {
        "id": "2rx3hjc-z3YX",
        "colab": {
          "base_uri": "https://localhost:8080/",
          "height": 503
        },
        "outputId": "6c6224ef-372c-4b02-9264-6c0c88deabdb"
      },
      "execution_count": 254,
      "outputs": [
        {
          "output_type": "display_data",
          "data": {
            "text/plain": [
              "id                      0\n",
              "name                    0\n",
              "host_id                 0\n",
              "neighbourhood           0\n",
              "latitude                0\n",
              "longitude               0\n",
              "room_type               0\n",
              "minimum_nights          0\n",
              "number_of_reviews       0\n",
              "last_review          2531\n",
              "reviews_per_month    2531\n",
              "availability_365        0\n",
              "y                    4996\n",
              "dtype: int64"
            ]
          },
          "metadata": {}
        },
        {
          "output_type": "display_data",
          "data": {
            "text/plain": [
              "id                      0\n",
              "name                    0\n",
              "host_id                 0\n",
              "neighbourhood           0\n",
              "latitude                0\n",
              "longitude               0\n",
              "room_type               0\n",
              "minimum_nights          0\n",
              "number_of_reviews       0\n",
              "last_review             0\n",
              "reviews_per_month       0\n",
              "availability_365        0\n",
              "y                    4996\n",
              "dtype: int64"
            ]
          },
          "metadata": {}
        }
      ]
    },
    {
      "cell_type": "code",
      "source": [
        "data.dtypes        "
      ],
      "metadata": {
        "colab": {
          "base_uri": "https://localhost:8080/"
        },
        "id": "dXkwJ_pXa9cl",
        "outputId": "03eb4e9d-fab4-4943-e5c0-dde8b25a9230"
      },
      "execution_count": 255,
      "outputs": [
        {
          "output_type": "execute_result",
          "data": {
            "text/plain": [
              "id                     int64\n",
              "name                  object\n",
              "host_id                int64\n",
              "neighbourhood         object\n",
              "latitude             float64\n",
              "longitude            float64\n",
              "room_type             object\n",
              "minimum_nights         int64\n",
              "number_of_reviews      int64\n",
              "last_review           object\n",
              "reviews_per_month    float64\n",
              "availability_365       int64\n",
              "y                    float64\n",
              "dtype: object"
            ]
          },
          "metadata": {},
          "execution_count": 255
        }
      ]
    },
    {
      "cell_type": "code",
      "source": [
        "### EDA ###\n",
        "#① Pythonのバージョン確認、モジュールのimport、データの読み込み\n",
        "# pd.read_csv()\n",
        "# train_data.head()\n",
        "# train_data.tail()\n",
        "\n",
        "#② 簡単にデータの状態を確認する（行数列数カウント・データの選択的表示・重複の有無など）\n",
        "# train_data.shape\n",
        "# train_data.index\n",
        "# train_data.columns\n",
        "# data.dtypes\n",
        "# train_data.loc[0:2,'name':'latitude']\n",
        "# train_data.iloc[0:2,2:4]\n",
        "# train_data.query('number_of_reviews >= 55 and minimum_nights == 1')\n",
        "# train_data['neighbourhood'].unique()\n",
        "# train_data['neighbourhood'].value_counts() #ユニークな要素値と出現回数\n",
        "\n",
        "# train_data['number_of_reviews'].drop_duplicates()\n",
        "# train_data.describe()\n",
        "\n",
        "# ③ データの整形（データ型変更、列名変更、並び替えなど）\n",
        "# train_data.set_index('minimum_nights').sort_index()\n",
        "# train_data.rename(columns={'name':'A', 'host_id':'B', 'neighbourhood':'C'})\n",
        "# train_data.sort_values(by = 'longitude')\n",
        "# train_data.sort_values(by = ['longitude', 'availability_365'])\n",
        "# train_data['last_review'] = pd.to_datetime(train_data['last_review'])\n",
        "\n",
        "# train_data.sort_index()\n",
        "# train_data.resample()\n",
        "# train_data.apply()\n",
        "# train_data.cut()\n",
        "\n",
        "# data.isnull().sum(axis=0)　## 欠損値確認\n",
        "# data[data['number_of_reviews'] == 0].isnull().sum()\n",
        "\n",
        "# name                         object　　　　削除\n",
        "# host_id                       int64\n",
        "# neighbourhood                object　　　　修正済み\n",
        "# latitude                    float64\n",
        "# longitude                   float64\n",
        "# room_type                    object  修正済み\n",
        "# minimum_nights                int64\n",
        "# number_of_reviews             int64\n",
        "# last_review          datetime64[ns]   修正済み\n",
        "# reviews_per_month           float64\n",
        "# availability_365              int64\n",
        "\n",
        "#曜日を要素に入れたい　　が方法がわからない > dt.をつけるとできる\n",
        "# pd.to_datetime(data['last_review'])　＃datetimeに変更\n",
        "# data['last_review'].dt.weekday ＃ 曜日を数値で抜きだし\n",
        "# data['last_review'].dt.year ＃ 西暦を抜きだし\n",
        "# data['last_review'].dt.month ＃ 月を抜きだし\n"
      ],
      "metadata": {
        "id": "aPGJFgEtl_KX"
      },
      "execution_count": 256,
      "outputs": []
    },
    {
      "cell_type": "markdown",
      "source": [
        "1.name"
      ],
      "metadata": {
        "id": "-VhXaTVhpjGU"
      }
    },
    {
      "cell_type": "code",
      "source": [
        "data['name'].value_counts()\n",
        "#施設名称を削除\n",
        "del data['name']"
      ],
      "metadata": {
        "id": "zIW_J87KpVNC"
      },
      "execution_count": 257,
      "outputs": []
    },
    {
      "cell_type": "markdown",
      "source": [
        "2.host_id"
      ],
      "metadata": {
        "id": "GBSXWxurpnUk"
      }
    },
    {
      "cell_type": "code",
      "source": [
        "data['host_id'].value_counts()"
      ],
      "metadata": {
        "colab": {
          "base_uri": "https://localhost:8080/"
        },
        "id": "emfbzFMDpt9L",
        "outputId": "a73bb748-d0ee-4fe1-96a7-7cd3a8d07a4d"
      },
      "execution_count": 258,
      "outputs": [
        {
          "output_type": "execute_result",
          "data": {
            "text/plain": [
              "188123234    98\n",
              "303026256    74\n",
              "16406686     71\n",
              "165921683    66\n",
              "207693509    54\n",
              "             ..\n",
              "17736560      1\n",
              "287790951     1\n",
              "10705201      1\n",
              "302205110     1\n",
              "278332086     1\n",
              "Name: host_id, Length: 3579, dtype: int64"
            ]
          },
          "metadata": {},
          "execution_count": 258
        }
      ]
    },
    {
      "cell_type": "markdown",
      "source": [
        "3.neighbourhood"
      ],
      "metadata": {
        "id": "h9ty2vjnp-O6"
      }
    },
    {
      "cell_type": "code",
      "source": [
        "#neighbourhood所在地を数値表記に変換\n",
        "Station_mapping ={\n",
        "'Shinjuku Ku':1,\n",
        "'Taito Ku':2,\n",
        "'Toshima Ku':3,\n",
        "'Sumida Ku':4,\n",
        "'Shibuya Ku':5,\n",
        "'Chuo Ku':6,\n",
        "'Minato Ku':7,\n",
        "'Ota Ku':8,\n",
        "'Nakano Ku':9,\n",
        "'Arakawa Ku':10,\n",
        "'Katsushika Ku':11,\n",
        "'Setagaya Ku':12,\n",
        "'Kita Ku':13,\n",
        "'Itabashi Ku':14,\n",
        "'Suginami Ku':15,\n",
        "'Koto Ku':16,\n",
        "'Chiyoda Ku':17,\n",
        "'Edogawa Ku':18,\n",
        "'Shinagawa Ku':19,\n",
        "'Adachi Ku':20,\n",
        "'Bunkyo Ku':21,\n",
        "'Nerima Ku':22,\n",
        "'Meguro Ku':23\n",
        "}\n",
        "data['neighbourhood'] = data['neighbourhood'].map(Station_mapping)\n",
        "data['neighbourhood'].value_counts()"
      ],
      "metadata": {
        "colab": {
          "base_uri": "https://localhost:8080/"
        },
        "id": "EOePsHfcp9zC",
        "outputId": "90b415ca-8df5-46ed-b972-e4ebf65388cd"
      },
      "execution_count": 259,
      "outputs": [
        {
          "output_type": "execute_result",
          "data": {
            "text/plain": [
              "1     2803\n",
              "2     2126\n",
              "3     1629\n",
              "4     1319\n",
              "5     1095\n",
              "6      610\n",
              "7      578\n",
              "8      527\n",
              "9      452\n",
              "11     433\n",
              "10     406\n",
              "12     381\n",
              "13     366\n",
              "14     339\n",
              "15     334\n",
              "18     277\n",
              "19     263\n",
              "16     242\n",
              "17     238\n",
              "20     194\n",
              "21     191\n",
              "22      92\n",
              "23      91\n",
              "Name: neighbourhood, dtype: int64"
            ]
          },
          "metadata": {},
          "execution_count": 259
        }
      ]
    },
    {
      "cell_type": "markdown",
      "source": [
        "4.latitude"
      ],
      "metadata": {
        "id": "RoCCcljOtGMS"
      }
    },
    {
      "cell_type": "code",
      "source": [
        "data['latitude'].value_counts()"
      ],
      "metadata": {
        "colab": {
          "base_uri": "https://localhost:8080/"
        },
        "id": "nYlkihcctMdP",
        "outputId": "da2c2e6c-679e-4893-b193-bf2166ed4519"
      },
      "execution_count": 260,
      "outputs": [
        {
          "output_type": "execute_result",
          "data": {
            "text/plain": [
              "35.60432    26\n",
              "35.69758    26\n",
              "35.69816    25\n",
              "35.70027    21\n",
              "35.69307    21\n",
              "            ..\n",
              "35.75710     1\n",
              "35.67059     1\n",
              "35.73915     1\n",
              "35.61365     1\n",
              "35.68555     1\n",
              "Name: latitude, Length: 7979, dtype: int64"
            ]
          },
          "metadata": {},
          "execution_count": 260
        }
      ]
    },
    {
      "cell_type": "markdown",
      "source": [
        "5.longitude"
      ],
      "metadata": {
        "id": "DLO0aQD0tcOA"
      }
    },
    {
      "cell_type": "code",
      "source": [
        "data['longitude'].value_counts()"
      ],
      "metadata": {
        "colab": {
          "base_uri": "https://localhost:8080/"
        },
        "id": "CC9F9kb_tbf5",
        "outputId": "6815abc1-4f92-49a5-9d42-3e3338734232"
      },
      "execution_count": 261,
      "outputs": [
        {
          "output_type": "execute_result",
          "data": {
            "text/plain": [
              "139.70352    30\n",
              "139.73279    28\n",
              "139.70587    25\n",
              "139.69406    24\n",
              "139.81075    21\n",
              "             ..\n",
              "139.68995     1\n",
              "139.72687     1\n",
              "139.81609     1\n",
              "139.79040     1\n",
              "139.77741     1\n",
              "Name: longitude, Length: 9208, dtype: int64"
            ]
          },
          "metadata": {},
          "execution_count": 261
        }
      ]
    },
    {
      "cell_type": "markdown",
      "source": [
        "6.room_type"
      ],
      "metadata": {
        "id": "r33iPaZxtzzX"
      }
    },
    {
      "cell_type": "code",
      "source": [
        "display(data['room_type'].value_counts())\n",
        "#部屋タイプを数値表記に変換\n",
        "Roomtype_mapping ={\n",
        "'Entire home/apt':1,\n",
        "'Private room':2,\n",
        "'Hotel room':3,\n",
        "'Shared room':4\n",
        "}\n",
        "data['room_type'] = data['room_type'].map(Roomtype_mapping)\n",
        "display(data['room_type'].value_counts())\n"
      ],
      "metadata": {
        "colab": {
          "base_uri": "https://localhost:8080/",
          "height": 191
        },
        "id": "Tw3hGoqUt2SE",
        "outputId": "132d4676-3147-44f1-85fa-94602c45ec49"
      },
      "execution_count": 262,
      "outputs": [
        {
          "output_type": "display_data",
          "data": {
            "text/plain": [
              "Entire home/apt    10377\n",
              "Private room        3170\n",
              "Hotel room           739\n",
              "Shared room          700\n",
              "Name: room_type, dtype: int64"
            ]
          },
          "metadata": {}
        },
        {
          "output_type": "display_data",
          "data": {
            "text/plain": [
              "1    10377\n",
              "2     3170\n",
              "3      739\n",
              "4      700\n",
              "Name: room_type, dtype: int64"
            ]
          },
          "metadata": {}
        }
      ]
    },
    {
      "cell_type": "markdown",
      "source": [
        "7.minimum_nights"
      ],
      "metadata": {
        "id": "nzi_DXaBuSEH"
      }
    },
    {
      "cell_type": "code",
      "source": [
        "data['minimum_nights'].value_counts()"
      ],
      "metadata": {
        "colab": {
          "base_uri": "https://localhost:8080/"
        },
        "id": "513WCHpwuYyK",
        "outputId": "b5785881-ab5b-4ef0-bc2d-44e9ad68f59c"
      },
      "execution_count": 263,
      "outputs": [
        {
          "output_type": "execute_result",
          "data": {
            "text/plain": [
              "1      9019\n",
              "2      3832\n",
              "3       789\n",
              "30      643\n",
              "7       113\n",
              "4       105\n",
              "5       104\n",
              "6        70\n",
              "23       63\n",
              "28       60\n",
              "14       34\n",
              "15       31\n",
              "31       25\n",
              "12       15\n",
              "20       14\n",
              "29       14\n",
              "10       14\n",
              "13        7\n",
              "25        5\n",
              "21        4\n",
              "8         3\n",
              "90        3\n",
              "32        3\n",
              "365       3\n",
              "9         2\n",
              "60        2\n",
              "180       2\n",
              "16        1\n",
              "360       1\n",
              "24        1\n",
              "35        1\n",
              "33        1\n",
              "100       1\n",
              "99        1\n",
              "Name: minimum_nights, dtype: int64"
            ]
          },
          "metadata": {},
          "execution_count": 263
        }
      ]
    },
    {
      "cell_type": "markdown",
      "source": [
        "8.number_of_reviews"
      ],
      "metadata": {
        "id": "jjCPLOsxvkVL"
      }
    },
    {
      "cell_type": "code",
      "source": [
        "data['number_of_reviews'].value_counts()"
      ],
      "metadata": {
        "colab": {
          "base_uri": "https://localhost:8080/"
        },
        "id": "BANjujrYvm-v",
        "outputId": "6617a34e-7b53-448d-9b2b-861845359520"
      },
      "execution_count": 264,
      "outputs": [
        {
          "output_type": "execute_result",
          "data": {
            "text/plain": [
              "0      2531\n",
              "1      1012\n",
              "2       706\n",
              "3       604\n",
              "4       467\n",
              "       ... \n",
              "238       1\n",
              "174       1\n",
              "189       1\n",
              "259       1\n",
              "206       1\n",
              "Name: number_of_reviews, Length: 277, dtype: int64"
            ]
          },
          "metadata": {},
          "execution_count": 264
        }
      ]
    },
    {
      "cell_type": "markdown",
      "source": [
        "9.last_review"
      ],
      "metadata": {
        "id": "iYdcQzA5wAy-"
      }
    },
    {
      "cell_type": "code",
      "source": [
        "data['last_review'].value_counts()\n",
        "#last_reviewがobjectなのでdatetimeに変換\n",
        "data['last_review'] = pd.to_datetime(data['last_review'])\n",
        "data['year'] = data['last_review'].dt.year\n",
        "data['month'] = data['last_review'].dt.month\n",
        "data['day'] = data['last_review'].dt.weekday\n",
        "del data['last_review']"
      ],
      "metadata": {
        "id": "5tPAnZF4z3k4"
      },
      "execution_count": 265,
      "outputs": []
    },
    {
      "cell_type": "markdown",
      "source": [
        "10.reviews_per_month"
      ],
      "metadata": {
        "id": "M-BugUx8xAXM"
      }
    },
    {
      "cell_type": "code",
      "source": [
        "data['reviews_per_month'].value_counts()"
      ],
      "metadata": {
        "colab": {
          "base_uri": "https://localhost:8080/"
        },
        "id": "2WT4-_3PxCZO",
        "outputId": "6c9a7c97-a9c6-4382-e7ec-3b30196cdc1f"
      },
      "execution_count": 266,
      "outputs": [
        {
          "output_type": "execute_result",
          "data": {
            "text/plain": [
              "1.00    174\n",
              "0.25     90\n",
              "0.32     87\n",
              "0.33     79\n",
              "0.27     79\n",
              "       ... \n",
              "6.66      1\n",
              "6.40      1\n",
              "7.68      1\n",
              "4.95      1\n",
              "6.42      1\n",
              "Name: reviews_per_month, Length: 629, dtype: int64"
            ]
          },
          "metadata": {},
          "execution_count": 266
        }
      ]
    },
    {
      "cell_type": "markdown",
      "source": [
        "11.availability_365"
      ],
      "metadata": {
        "id": "1tZT_Oe9xNRZ"
      }
    },
    {
      "cell_type": "code",
      "source": [
        "data['availability_365'].value_counts()"
      ],
      "metadata": {
        "colab": {
          "base_uri": "https://localhost:8080/"
        },
        "id": "upg5TZgdxSo6",
        "outputId": "a8e8e46c-ea84-40e9-ccf5-61c8f864704a"
      },
      "execution_count": 267,
      "outputs": [
        {
          "output_type": "execute_result",
          "data": {
            "text/plain": [
              "0      2097\n",
              "180     354\n",
              "365     338\n",
              "90      266\n",
              "179     253\n",
              "       ... \n",
              "200       6\n",
              "206       5\n",
              "202       4\n",
              "284       4\n",
              "190       3\n",
              "Name: availability_365, Length: 366, dtype: int64"
            ]
          },
          "metadata": {},
          "execution_count": 267
        }
      ]
    },
    {
      "cell_type": "markdown",
      "source": [
        "12.y\n",
        "１日あたりの宿泊料  \n",
        "１万円以下にピーク、９万円にも山あり"
      ],
      "metadata": {
        "id": "aEit45PYgQNs"
      }
    },
    {
      "cell_type": "code",
      "source": [
        "display(data['y'].value_counts())\n",
        "\n",
        "import matplotlib.pyplot as plt\n",
        "%matplotlib inline\n",
        "plt.hist(train['y'], log=True, bins=20)"
      ],
      "metadata": {
        "colab": {
          "base_uri": "https://localhost:8080/",
          "height": 677
        },
        "id": "M4z8A-sugqAZ",
        "outputId": "f0cecdfb-e9e5-4c2f-b3ab-9268fe731141"
      },
      "execution_count": 268,
      "outputs": [
        {
          "output_type": "display_data",
          "data": {
            "text/plain": [
              "9931.0     10\n",
              "9930.0      7\n",
              "9956.0      7\n",
              "6008.0      7\n",
              "9988.0      7\n",
              "           ..\n",
              "12352.0     1\n",
              "8781.0      1\n",
              "6840.0      1\n",
              "25079.0     1\n",
              "45041.0     1\n",
              "Name: y, Length: 7520, dtype: int64"
            ]
          },
          "metadata": {}
        },
        {
          "output_type": "execute_result",
          "data": {
            "text/plain": [
              "(array([9.357e+03, 4.600e+02, 4.200e+01, 2.400e+01, 6.000e+00, 5.100e+01,\n",
              "        1.000e+00, 0.000e+00, 0.000e+00, 5.000e+00, 0.000e+00, 0.000e+00,\n",
              "        0.000e+00, 1.000e+00, 0.000e+00, 1.000e+00, 0.000e+00, 3.500e+01,\n",
              "        4.000e+00, 3.000e+00]),\n",
              " array([9.210000e+02, 5.088010e+04, 1.008392e+05, 1.507983e+05,\n",
              "        2.007574e+05, 2.507165e+05, 3.006756e+05, 3.506347e+05,\n",
              "        4.005938e+05, 4.505529e+05, 5.005120e+05, 5.504711e+05,\n",
              "        6.004302e+05, 6.503893e+05, 7.003484e+05, 7.503075e+05,\n",
              "        8.002666e+05, 8.502257e+05, 9.001848e+05, 9.501439e+05,\n",
              "        1.000103e+06]),\n",
              " <a list of 20 Patch objects>)"
            ]
          },
          "metadata": {},
          "execution_count": 268
        },
        {
          "output_type": "display_data",
          "data": {
            "text/plain": [
              "<Figure size 432x288 with 1 Axes>"
            ],
            "image/png": "[encoded data removed]"
          },
          "metadata": {
            "needs_background": "light"
          }
        }
      ]
    },
    {
      "cell_type": "code",
      "source": [
        "train =data[:len(train)]\n",
        "test = data[len(train):]\n",
        "y_train = train['y'] /1000\n",
        "X_train =train.drop('y', axis=1)\n",
        "X_test =test.drop('y', axis =1)"
      ],
      "metadata": {
        "id": "qD1j2gCPyuCR"
      },
      "execution_count": 280,
      "outputs": []
    },
    {
      "cell_type": "code",
      "source": [
        "X_train.head()"
      ],
      "metadata": {
        "colab": {
          "base_uri": "https://localhost:8080/",
          "height": 270
        },
        "id": "w5l8R37GzqxX",
        "outputId": "aec0b465-3b28-4beb-a9e3-de1324e11368"
      },
      "execution_count": 281,
      "outputs": [
        {
          "output_type": "execute_result",
          "data": {
            "text/plain": [
              "   id    host_id  neighbourhood  latitude  longitude  room_type  \\\n",
              "0   1  242899459             16  35.68185  139.80310          1   \n",
              "1   2  308879948              2  35.72063  139.78536          1   \n",
              "2   3  300877823             11  35.74723  139.82349          1   \n",
              "3   4  236935461              5  35.68456  139.68077          1   \n",
              "4   5  243408889              1  35.69840  139.70467          1   \n",
              "\n",
              "   minimum_nights  number_of_reviews  reviews_per_month  availability_365  \\\n",
              "0               1                 55               2.21               173   \n",
              "1               6                 72               2.11                 9   \n",
              "2               1                 18               3.46               288   \n",
              "3               1                  2               1.76                87   \n",
              "4               1                 86               2.00               156   \n",
              "\n",
              "   year  month  day  \n",
              "0  2020      4    5  \n",
              "1  2020      3    2  \n",
              "2  2020      3    0  \n",
              "3  2020      4    3  \n",
              "4  2020      1    3  "
            ],
            "text/html": [
              "\n",
              "  <div id=\"df-a8de6f0b-9c47-4b19-8cca-b26ad2bac28d\">\n",
              "    <div class=\"colab-df-container\">\n",
              "      <div>\n",
              "<style scoped>\n",
              "    .dataframe tbody tr th:only-of-type {\n",
              "        vertical-align: middle;\n",
              "    }\n",
              "\n",
              "    .dataframe tbody tr th {\n",
              "        vertical-align: top;\n",
              "    }\n",
              "\n",
              "    .dataframe thead th {\n",
              "        text-align: right;\n",
              "    }\n",
              "</style>\n",
              "<table border=\"1\" class=\"dataframe\">\n",
              "  <thead>\n",
              "    <tr style=\"text-align: right;\">\n",
              "      <th></th>\n",
              "      <th>id</th>\n",
              "      <th>host_id</th>\n",
              "      <th>neighbourhood</th>\n",
              "      <th>latitude</th>\n",
              "      <th>longitude</th>\n",
              "      <th>room_type</th>\n",
              "      <th>minimum_nights</th>\n",
              "      <th>number_of_reviews</th>\n",
              "      <th>reviews_per_month</th>\n",
              "      <th>availability_365</th>\n",
              "      <th>year</th>\n",
              "      <th>month</th>\n",
              "      <th>day</th>\n",
              "    </tr>\n",
              "  </thead>\n",
              "  <tbody>\n",
              "    <tr>\n",
              "      <th>0</th>\n",
              "      <td>1</td>\n",
              "      <td>242899459</td>\n",
              "      <td>16</td>\n",
              "      <td>35.68185</td>\n",
              "      <td>139.80310</td>\n",
              "      <td>1</td>\n",
              "      <td>1</td>\n",
              "      <td>55</td>\n",
              "      <td>2.21</td>\n",
              "      <td>173</td>\n",
              "      <td>2020</td>\n",
              "      <td>4</td>\n",
              "      <td>5</td>\n",
              "    </tr>\n",
              "    <tr>\n",
              "      <th>1</th>\n",
              "      <td>2</td>\n",
              "      <td>308879948</td>\n",
              "      <td>2</td>\n",
              "      <td>35.72063</td>\n",
              "      <td>139.78536</td>\n",
              "      <td>1</td>\n",
              "      <td>6</td>\n",
              "      <td>72</td>\n",
              "      <td>2.11</td>\n",
              "      <td>9</td>\n",
              "      <td>2020</td>\n",
              "      <td>3</td>\n",
              "      <td>2</td>\n",
              "    </tr>\n",
              "    <tr>\n",
              "      <th>2</th>\n",
              "      <td>3</td>\n",
              "      <td>300877823</td>\n",
              "      <td>11</td>\n",
              "      <td>35.74723</td>\n",
              "      <td>139.82349</td>\n",
              "      <td>1</td>\n",
              "      <td>1</td>\n",
              "      <td>18</td>\n",
              "      <td>3.46</td>\n",
              "      <td>288</td>\n",
              "      <td>2020</td>\n",
              "      <td>3</td>\n",
              "      <td>0</td>\n",
              "    </tr>\n",
              "    <tr>\n",
              "      <th>3</th>\n",
              "      <td>4</td>\n",
              "      <td>236935461</td>\n",
              "      <td>5</td>\n",
              "      <td>35.68456</td>\n",
              "      <td>139.68077</td>\n",
              "      <td>1</td>\n",
              "      <td>1</td>\n",
              "      <td>2</td>\n",
              "      <td>1.76</td>\n",
              "      <td>87</td>\n",
              "      <td>2020</td>\n",
              "      <td>4</td>\n",
              "      <td>3</td>\n",
              "    </tr>\n",
              "    <tr>\n",
              "      <th>4</th>\n",
              "      <td>5</td>\n",
              "      <td>243408889</td>\n",
              "      <td>1</td>\n",
              "      <td>35.69840</td>\n",
              "      <td>139.70467</td>\n",
              "      <td>1</td>\n",
              "      <td>1</td>\n",
              "      <td>86</td>\n",
              "      <td>2.00</td>\n",
              "      <td>156</td>\n",
              "      <td>2020</td>\n",
              "      <td>1</td>\n",
              "      <td>3</td>\n",
              "    </tr>\n",
              "  </tbody>\n",
              "</table>\n",
              "</div>\n",
              "      <button class=\"colab-df-convert\" onclick=\"convertToInteractive('df-a8de6f0b-9c47-4b19-8cca-b26ad2bac28d')\"\n",
              "              title=\"Convert this dataframe to an interactive table.\"\n",
              "              style=\"display:none;\">\n",
              "        \n",
              "  <svg xmlns=\"http://www.w3.org/2000/svg\" height=\"24px\"viewBox=\"0 0 24 24\"\n",
              "       width=\"24px\">\n",
              "    <path d=\"M0 0h24v24H0V0z\" fill=\"none\"/>\n",
              "    <path d=\"M18.56 5.44l.94 2.06.94-2.06 2.06-.94-2.06-.94-.94-2.06-.94 2.06-2.06.94zm-11 1L8.5 8.5l.94-2.06 2.06-.94-2.06-.94L8.5 2.5l-.94 2.06-2.06.94zm10 10l.94 2.06.94-2.06 2.06-.94-2.06-.94-.94-2.06-.94 2.06-2.06.94z\"/><path d=\"M17.41 7.96l-1.37-1.37c-.4-.4-.92-.59-1.43-.59-.52 0-1.04.2-1.43.59L10.3 9.45l-7.72 7.72c-.78.78-.78 2.05 0 2.83L4 21.41c.39.39.9.59 1.41.59.51 0 1.02-.2 1.41-.59l7.78-7.78 2.81-2.81c.8-.78.8-2.07 0-2.86zM5.41 20L4 18.59l7.72-7.72 1.47 1.35L5.41 20z\"/>\n",
              "  </svg>\n",
              "      </button>\n",
              "      \n",
              "  <style>\n",
              "    .colab-df-container {\n",
              "      display:flex;\n",
              "      flex-wrap:wrap;\n",
              "      gap: 12px;\n",
              "    }\n",
              "\n",
              "    .colab-df-convert {\n",
              "      background-color: #E8F0FE;\n",
              "      border: none;\n",
              "      border-radius: 50%;\n",
              "      cursor: pointer;\n",
              "      display: none;\n",
              "      fill: #1967D2;\n",
              "      height: 32px;\n",
              "      padding: 0 0 0 0;\n",
              "      width: 32px;\n",
              "    }\n",
              "\n",
              "    .colab-df-convert:hover {\n",
              "      background-color: #E2EBFA;\n",
              "      box-shadow: 0px 1px 2px rgba(60, 64, 67, 0.3), 0px 1px 3px 1px rgba(60, 64, 67, 0.15);\n",
              "      fill: #174EA6;\n",
              "    }\n",
              "\n",
              "    [theme=dark] .colab-df-convert {\n",
              "      background-color: #3B4455;\n",
              "      fill: #D2E3FC;\n",
              "    }\n",
              "\n",
              "    [theme=dark] .colab-df-convert:hover {\n",
              "      background-color: #434B5C;\n",
              "      box-shadow: 0px 1px 3px 1px rgba(0, 0, 0, 0.15);\n",
              "      filter: drop-shadow(0px 1px 2px rgba(0, 0, 0, 0.3));\n",
              "      fill: #FFFFFF;\n",
              "    }\n",
              "  </style>\n",
              "\n",
              "      <script>\n",
              "        const buttonEl =\n",
              "          document.querySelector('#df-a8de6f0b-9c47-4b19-8cca-b26ad2bac28d button.colab-df-convert');\n",
              "        buttonEl.style.display =\n",
              "          google.colab.kernel.accessAllowed ? 'block' : 'none';\n",
              "\n",
              "        async function convertToInteractive(key) {\n",
              "          const element = document.querySelector('#df-a8de6f0b-9c47-4b19-8cca-b26ad2bac28d');\n",
              "          const dataTable =\n",
              "            await google.colab.kernel.invokeFunction('convertToInteractive',\n",
              "                                                     [key], {});\n",
              "          if (!dataTable) return;\n",
              "\n",
              "          const docLinkHtml = 'Like what you see? Visit the ' +\n",
              "            '<a target=\"_blank\" href=https://colab.research.google.com/notebooks/data_table.ipynb>data table notebook</a>'\n",
              "            + ' to learn more about interactive tables.';\n",
              "          element.innerHTML = '';\n",
              "          dataTable['output_type'] = 'display_data';\n",
              "          await google.colab.output.renderOutput(dataTable, element);\n",
              "          const docLink = document.createElement('div');\n",
              "          docLink.innerHTML = docLinkHtml;\n",
              "          element.appendChild(docLink);\n",
              "        }\n",
              "      </script>\n",
              "    </div>\n",
              "  </div>\n",
              "  "
            ]
          },
          "metadata": {},
          "execution_count": 281
        }
      ]
    },
    {
      "cell_type": "code",
      "source": [
        "y_train.head()"
      ],
      "metadata": {
        "colab": {
          "base_uri": "https://localhost:8080/"
        },
        "id": "FlXpBvcfzqlK",
        "outputId": "f4e64b26-81fd-4544-ca1d-6e4d8be32fea"
      },
      "execution_count": 282,
      "outputs": [
        {
          "output_type": "execute_result",
          "data": {
            "text/plain": [
              "0     12.008\n",
              "1      6.667\n",
              "2      9.923\n",
              "3      8.109\n",
              "4    100.390\n",
              "Name: y, dtype: float64"
            ]
          },
          "metadata": {},
          "execution_count": 282
        }
      ]
    },
    {
      "cell_type": "code",
      "source": [
        "X_train.isnull().sum()"
      ],
      "metadata": {
        "colab": {
          "base_uri": "https://localhost:8080/"
        },
        "id": "eij4mRWo3-RM",
        "outputId": "1c939e9d-3442-4f59-a716-07ac6f38595a"
      },
      "execution_count": 283,
      "outputs": [
        {
          "output_type": "execute_result",
          "data": {
            "text/plain": [
              "id                   0\n",
              "host_id              0\n",
              "neighbourhood        0\n",
              "latitude             0\n",
              "longitude            0\n",
              "room_type            0\n",
              "minimum_nights       0\n",
              "number_of_reviews    0\n",
              "reviews_per_month    0\n",
              "availability_365     0\n",
              "year                 0\n",
              "month                0\n",
              "day                  0\n",
              "dtype: int64"
            ]
          },
          "metadata": {},
          "execution_count": 283
        }
      ]
    },
    {
      "cell_type": "code",
      "source": [
        "#scikit-learnライブラリをimport\n",
        "import sklearn\n",
        "from sklearn.ensemble import RandomForestRegressor as RFR\n",
        "\n",
        "#回帰モデルのインスタンス化\n",
        "model = RFR()\n",
        "\n",
        "#予測モデルの作成\n",
        "result = model.fit(X_train, y_train)"
      ],
      "metadata": {
        "id": "NFvUztOwenfi"
      },
      "execution_count": 284,
      "outputs": []
    },
    {
      "cell_type": "code",
      "source": [
        "model.score(X_train, y_train)"
      ],
      "metadata": {
        "colab": {
          "base_uri": "https://localhost:8080/"
        },
        "id": "y-ZPxPFFubW_",
        "outputId": "f58ceb19-aad9-4275-df6c-c4f7de9b28ed"
      },
      "execution_count": 285,
      "outputs": [
        {
          "output_type": "execute_result",
          "data": {
            "text/plain": [
              "0.9318746929588928"
            ]
          },
          "metadata": {},
          "execution_count": 285
        }
      ]
    },
    {
      "cell_type": "code",
      "source": [
        "# accuracyの出力\n",
        "from sklearn.metrics import mean_squared_log_error\n",
        "y_true = y_train\n",
        "y_pred = model.predict(X_train)\n",
        "print(np.sqrt(mean_squared_log_error(y_true, y_pred)))"
      ],
      "metadata": {
        "colab": {
          "base_uri": "https://localhost:8080/"
        },
        "id": "aehK9sYaudtR",
        "outputId": "4b59a01c-45ef-42fe-b0a6-797116ce5a5c"
      },
      "execution_count": 275,
      "outputs": [
        {
          "output_type": "stream",
          "name": "stdout",
          "text": [
            "0.36149970412791094\n"
          ]
        }
      ]
    },
    {
      "cell_type": "code",
      "source": [
        "#テスト結果の出力\n",
        "test_predicted = model.predict(X_test)\n",
        "submit_df = pd.DataFrame({'y': test_predicted})\n",
        "submit_df.index.name = 'id'\n",
        "submit_df.to_csv('/content/drive/MyDrive/Colab Notebooks/probspace/PublicLB/output/submission2.csv')"
      ],
      "metadata": {
        "id": "gtjaP2MOu2hL"
      },
      "execution_count": 276,
      "outputs": []
    },
    {
      "cell_type": "code",
      "source": [
        ""
      ],
      "metadata": {
        "id": "5TueoSTCvG_a"
      },
      "execution_count": 276,
      "outputs": []
    }
  ]
}